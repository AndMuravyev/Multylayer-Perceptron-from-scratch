{
 "cells": [
  {
   "cell_type": "markdown",
   "metadata": {
    "datalore": {
     "hide_input_from_viewers": true,
     "hide_output_from_viewers": true,
     "node_id": "kjhbvCq3gMFTntqp4eeSFz",
     "type": "MD"
    }
   },
   "source": [
    "# Анализ датасета Iris с помощью реализованной с нуля нейронной сети"
   ]
  },
  {
   "cell_type": "markdown",
   "metadata": {},
   "source": [
    "Используем скрипт для генерации нейросети произвольной архитектуры; получим многослойный перцептрон и попробуем решить задачу многоклассовой классификации"
   ]
  },
  {
   "cell_type": "markdown",
   "metadata": {
    "datalore": {
     "hide_input_from_viewers": true,
     "hide_output_from_viewers": true,
     "node_id": "YZzsAChV4N4BslTS5hAYIJ",
     "type": "MD"
    }
   },
   "source": [
    "## 1. Загрузка и преобразование данных"
   ]
  },
  {
   "cell_type": "code",
   "execution_count": 1,
   "metadata": {
    "datalore": {
     "hide_input_from_viewers": true,
     "hide_output_from_viewers": true,
     "node_id": "QDoR7N48aeUkaevYFD2zfc",
     "type": "CODE"
    }
   },
   "outputs": [],
   "source": [
    "import numpy as np\n",
    "import pandas as pd\n",
    "from copy import deepcopy\n",
    "from sklearn.datasets import load_iris\n",
    "from sklearn.model_selection import train_test_split\n",
    "from defaultlist import defaultlist\n",
    "import matplotlib.pyplot as plt\n",
    "%matplotlib inline\n"
   ]
  },
  {
   "cell_type": "markdown",
   "metadata": {
    "datalore": {
     "hide_input_from_viewers": true,
     "hide_output_from_viewers": true,
     "node_id": "KOY6wB4k1v35wkuIZgCQ38",
     "type": "MD"
    }
   },
   "source": [
    "Загрузим датасет и посмотрим на представлениe данных, чтобы преобразовать их в датафрейм."
   ]
  },
  {
   "cell_type": "code",
   "execution_count": 2,
   "metadata": {
    "datalore": {
     "hide_input_from_viewers": true,
     "hide_output_from_viewers": true,
     "node_id": "ieHwvvwCfwQi6sBYmOGocB",
     "type": "CODE"
    },
    "tags": []
   },
   "outputs": [
    {
     "data": {
      "text/plain": [
       "{'data': array([[5.1, 3.5, 1.4, 0.2],\n",
       "        [4.9, 3. , 1.4, 0.2],\n",
       "        [4.7, 3.2, 1.3, 0.2],\n",
       "        [4.6, 3.1, 1.5, 0.2],\n",
       "        [5. , 3.6, 1.4, 0.2],\n",
       "        [5.4, 3.9, 1.7, 0.4],\n",
       "        [4.6, 3.4, 1.4, 0.3],\n",
       "        [5. , 3.4, 1.5, 0.2],\n",
       "        [4.4, 2.9, 1.4, 0.2],\n",
       "        [4.9, 3.1, 1.5, 0.1],\n",
       "        [5.4, 3.7, 1.5, 0.2],\n",
       "        [4.8, 3.4, 1.6, 0.2],\n",
       "        [4.8, 3. , 1.4, 0.1],\n",
       "        [4.3, 3. , 1.1, 0.1],\n",
       "        [5.8, 4. , 1.2, 0.2],\n",
       "        [5.7, 4.4, 1.5, 0.4],\n",
       "        [5.4, 3.9, 1.3, 0.4],\n",
       "        [5.1, 3.5, 1.4, 0.3],\n",
       "        [5.7, 3.8, 1.7, 0.3],\n",
       "        [5.1, 3.8, 1.5, 0.3],\n",
       "        [5.4, 3.4, 1.7, 0.2],\n",
       "        [5.1, 3.7, 1.5, 0.4],\n",
       "        [4.6, 3.6, 1. , 0.2],\n",
       "        [5.1, 3.3, 1.7, 0.5],\n",
       "        [4.8, 3.4, 1.9, 0.2],\n",
       "        [5. , 3. , 1.6, 0.2],\n",
       "        [5. , 3.4, 1.6, 0.4],\n",
       "        [5.2, 3.5, 1.5, 0.2],\n",
       "        [5.2, 3.4, 1.4, 0.2],\n",
       "        [4.7, 3.2, 1.6, 0.2],\n",
       "        [4.8, 3.1, 1.6, 0.2],\n",
       "        [5.4, 3.4, 1.5, 0.4],\n",
       "        [5.2, 4.1, 1.5, 0.1],\n",
       "        [5.5, 4.2, 1.4, 0.2],\n",
       "        [4.9, 3.1, 1.5, 0.2],\n",
       "        [5. , 3.2, 1.2, 0.2],\n",
       "        [5.5, 3.5, 1.3, 0.2],\n",
       "        [4.9, 3.6, 1.4, 0.1],\n",
       "        [4.4, 3. , 1.3, 0.2],\n",
       "        [5.1, 3.4, 1.5, 0.2],\n",
       "        [5. , 3.5, 1.3, 0.3],\n",
       "        [4.5, 2.3, 1.3, 0.3],\n",
       "        [4.4, 3.2, 1.3, 0.2],\n",
       "        [5. , 3.5, 1.6, 0.6],\n",
       "        [5.1, 3.8, 1.9, 0.4],\n",
       "        [4.8, 3. , 1.4, 0.3],\n",
       "        [5.1, 3.8, 1.6, 0.2],\n",
       "        [4.6, 3.2, 1.4, 0.2],\n",
       "        [5.3, 3.7, 1.5, 0.2],\n",
       "        [5. , 3.3, 1.4, 0.2],\n",
       "        [7. , 3.2, 4.7, 1.4],\n",
       "        [6.4, 3.2, 4.5, 1.5],\n",
       "        [6.9, 3.1, 4.9, 1.5],\n",
       "        [5.5, 2.3, 4. , 1.3],\n",
       "        [6.5, 2.8, 4.6, 1.5],\n",
       "        [5.7, 2.8, 4.5, 1.3],\n",
       "        [6.3, 3.3, 4.7, 1.6],\n",
       "        [4.9, 2.4, 3.3, 1. ],\n",
       "        [6.6, 2.9, 4.6, 1.3],\n",
       "        [5.2, 2.7, 3.9, 1.4],\n",
       "        [5. , 2. , 3.5, 1. ],\n",
       "        [5.9, 3. , 4.2, 1.5],\n",
       "        [6. , 2.2, 4. , 1. ],\n",
       "        [6.1, 2.9, 4.7, 1.4],\n",
       "        [5.6, 2.9, 3.6, 1.3],\n",
       "        [6.7, 3.1, 4.4, 1.4],\n",
       "        [5.6, 3. , 4.5, 1.5],\n",
       "        [5.8, 2.7, 4.1, 1. ],\n",
       "        [6.2, 2.2, 4.5, 1.5],\n",
       "        [5.6, 2.5, 3.9, 1.1],\n",
       "        [5.9, 3.2, 4.8, 1.8],\n",
       "        [6.1, 2.8, 4. , 1.3],\n",
       "        [6.3, 2.5, 4.9, 1.5],\n",
       "        [6.1, 2.8, 4.7, 1.2],\n",
       "        [6.4, 2.9, 4.3, 1.3],\n",
       "        [6.6, 3. , 4.4, 1.4],\n",
       "        [6.8, 2.8, 4.8, 1.4],\n",
       "        [6.7, 3. , 5. , 1.7],\n",
       "        [6. , 2.9, 4.5, 1.5],\n",
       "        [5.7, 2.6, 3.5, 1. ],\n",
       "        [5.5, 2.4, 3.8, 1.1],\n",
       "        [5.5, 2.4, 3.7, 1. ],\n",
       "        [5.8, 2.7, 3.9, 1.2],\n",
       "        [6. , 2.7, 5.1, 1.6],\n",
       "        [5.4, 3. , 4.5, 1.5],\n",
       "        [6. , 3.4, 4.5, 1.6],\n",
       "        [6.7, 3.1, 4.7, 1.5],\n",
       "        [6.3, 2.3, 4.4, 1.3],\n",
       "        [5.6, 3. , 4.1, 1.3],\n",
       "        [5.5, 2.5, 4. , 1.3],\n",
       "        [5.5, 2.6, 4.4, 1.2],\n",
       "        [6.1, 3. , 4.6, 1.4],\n",
       "        [5.8, 2.6, 4. , 1.2],\n",
       "        [5. , 2.3, 3.3, 1. ],\n",
       "        [5.6, 2.7, 4.2, 1.3],\n",
       "        [5.7, 3. , 4.2, 1.2],\n",
       "        [5.7, 2.9, 4.2, 1.3],\n",
       "        [6.2, 2.9, 4.3, 1.3],\n",
       "        [5.1, 2.5, 3. , 1.1],\n",
       "        [5.7, 2.8, 4.1, 1.3],\n",
       "        [6.3, 3.3, 6. , 2.5],\n",
       "        [5.8, 2.7, 5.1, 1.9],\n",
       "        [7.1, 3. , 5.9, 2.1],\n",
       "        [6.3, 2.9, 5.6, 1.8],\n",
       "        [6.5, 3. , 5.8, 2.2],\n",
       "        [7.6, 3. , 6.6, 2.1],\n",
       "        [4.9, 2.5, 4.5, 1.7],\n",
       "        [7.3, 2.9, 6.3, 1.8],\n",
       "        [6.7, 2.5, 5.8, 1.8],\n",
       "        [7.2, 3.6, 6.1, 2.5],\n",
       "        [6.5, 3.2, 5.1, 2. ],\n",
       "        [6.4, 2.7, 5.3, 1.9],\n",
       "        [6.8, 3. , 5.5, 2.1],\n",
       "        [5.7, 2.5, 5. , 2. ],\n",
       "        [5.8, 2.8, 5.1, 2.4],\n",
       "        [6.4, 3.2, 5.3, 2.3],\n",
       "        [6.5, 3. , 5.5, 1.8],\n",
       "        [7.7, 3.8, 6.7, 2.2],\n",
       "        [7.7, 2.6, 6.9, 2.3],\n",
       "        [6. , 2.2, 5. , 1.5],\n",
       "        [6.9, 3.2, 5.7, 2.3],\n",
       "        [5.6, 2.8, 4.9, 2. ],\n",
       "        [7.7, 2.8, 6.7, 2. ],\n",
       "        [6.3, 2.7, 4.9, 1.8],\n",
       "        [6.7, 3.3, 5.7, 2.1],\n",
       "        [7.2, 3.2, 6. , 1.8],\n",
       "        [6.2, 2.8, 4.8, 1.8],\n",
       "        [6.1, 3. , 4.9, 1.8],\n",
       "        [6.4, 2.8, 5.6, 2.1],\n",
       "        [7.2, 3. , 5.8, 1.6],\n",
       "        [7.4, 2.8, 6.1, 1.9],\n",
       "        [7.9, 3.8, 6.4, 2. ],\n",
       "        [6.4, 2.8, 5.6, 2.2],\n",
       "        [6.3, 2.8, 5.1, 1.5],\n",
       "        [6.1, 2.6, 5.6, 1.4],\n",
       "        [7.7, 3. , 6.1, 2.3],\n",
       "        [6.3, 3.4, 5.6, 2.4],\n",
       "        [6.4, 3.1, 5.5, 1.8],\n",
       "        [6. , 3. , 4.8, 1.8],\n",
       "        [6.9, 3.1, 5.4, 2.1],\n",
       "        [6.7, 3.1, 5.6, 2.4],\n",
       "        [6.9, 3.1, 5.1, 2.3],\n",
       "        [5.8, 2.7, 5.1, 1.9],\n",
       "        [6.8, 3.2, 5.9, 2.3],\n",
       "        [6.7, 3.3, 5.7, 2.5],\n",
       "        [6.7, 3. , 5.2, 2.3],\n",
       "        [6.3, 2.5, 5. , 1.9],\n",
       "        [6.5, 3. , 5.2, 2. ],\n",
       "        [6.2, 3.4, 5.4, 2.3],\n",
       "        [5.9, 3. , 5.1, 1.8]]),\n",
       " 'target': array([0, 0, 0, 0, 0, 0, 0, 0, 0, 0, 0, 0, 0, 0, 0, 0, 0, 0, 0, 0, 0, 0,\n",
       "        0, 0, 0, 0, 0, 0, 0, 0, 0, 0, 0, 0, 0, 0, 0, 0, 0, 0, 0, 0, 0, 0,\n",
       "        0, 0, 0, 0, 0, 0, 1, 1, 1, 1, 1, 1, 1, 1, 1, 1, 1, 1, 1, 1, 1, 1,\n",
       "        1, 1, 1, 1, 1, 1, 1, 1, 1, 1, 1, 1, 1, 1, 1, 1, 1, 1, 1, 1, 1, 1,\n",
       "        1, 1, 1, 1, 1, 1, 1, 1, 1, 1, 1, 1, 2, 2, 2, 2, 2, 2, 2, 2, 2, 2,\n",
       "        2, 2, 2, 2, 2, 2, 2, 2, 2, 2, 2, 2, 2, 2, 2, 2, 2, 2, 2, 2, 2, 2,\n",
       "        2, 2, 2, 2, 2, 2, 2, 2, 2, 2, 2, 2, 2, 2, 2, 2, 2, 2]),\n",
       " 'frame': None,\n",
       " 'target_names': array(['setosa', 'versicolor', 'virginica'], dtype='<U10'),\n",
       " 'DESCR': '.. _iris_dataset:\\n\\nIris plants dataset\\n--------------------\\n\\n**Data Set Characteristics:**\\n\\n    :Number of Instances: 150 (50 in each of three classes)\\n    :Number of Attributes: 4 numeric, predictive attributes and the class\\n    :Attribute Information:\\n        - sepal length in cm\\n        - sepal width in cm\\n        - petal length in cm\\n        - petal width in cm\\n        - class:\\n                - Iris-Setosa\\n                - Iris-Versicolour\\n                - Iris-Virginica\\n                \\n    :Summary Statistics:\\n\\n    ============== ==== ==== ======= ===== ====================\\n                    Min  Max   Mean    SD   Class Correlation\\n    ============== ==== ==== ======= ===== ====================\\n    sepal length:   4.3  7.9   5.84   0.83    0.7826\\n    sepal width:    2.0  4.4   3.05   0.43   -0.4194\\n    petal length:   1.0  6.9   3.76   1.76    0.9490  (high!)\\n    petal width:    0.1  2.5   1.20   0.76    0.9565  (high!)\\n    ============== ==== ==== ======= ===== ====================\\n\\n    :Missing Attribute Values: None\\n    :Class Distribution: 33.3% for each of 3 classes.\\n    :Creator: R.A. Fisher\\n    :Donor: Michael Marshall (MARSHALL%PLU@io.arc.nasa.gov)\\n    :Date: July, 1988\\n\\nThe famous Iris database, first used by Sir R.A. Fisher. The dataset is taken\\nfrom Fisher\\'s paper. Note that it\\'s the same as in R, but not as in the UCI\\nMachine Learning Repository, which has two wrong data points.\\n\\nThis is perhaps the best known database to be found in the\\npattern recognition literature.  Fisher\\'s paper is a classic in the field and\\nis referenced frequently to this day.  (See Duda & Hart, for example.)  The\\ndata set contains 3 classes of 50 instances each, where each class refers to a\\ntype of iris plant.  One class is linearly separable from the other 2; the\\nlatter are NOT linearly separable from each other.\\n\\n.. topic:: References\\n\\n   - Fisher, R.A. \"The use of multiple measurements in taxonomic problems\"\\n     Annual Eugenics, 7, Part II, 179-188 (1936); also in \"Contributions to\\n     Mathematical Statistics\" (John Wiley, NY, 1950).\\n   - Duda, R.O., & Hart, P.E. (1973) Pattern Classification and Scene Analysis.\\n     (Q327.D83) John Wiley & Sons.  ISBN 0-471-22361-1.  See page 218.\\n   - Dasarathy, B.V. (1980) \"Nosing Around the Neighborhood: A New System\\n     Structure and Classification Rule for Recognition in Partially Exposed\\n     Environments\".  IEEE Transactions on Pattern Analysis and Machine\\n     Intelligence, Vol. PAMI-2, No. 1, 67-71.\\n   - Gates, G.W. (1972) \"The Reduced Nearest Neighbor Rule\".  IEEE Transactions\\n     on Information Theory, May 1972, 431-433.\\n   - See also: 1988 MLC Proceedings, 54-64.  Cheeseman et al\"s AUTOCLASS II\\n     conceptual clustering system finds 3 classes in the data.\\n   - Many, many more ...',\n",
       " 'feature_names': ['sepal length (cm)',\n",
       "  'sepal width (cm)',\n",
       "  'petal length (cm)',\n",
       "  'petal width (cm)'],\n",
       " 'filename': 'iris.csv',\n",
       " 'data_module': 'sklearn.datasets.data'}"
      ]
     },
     "execution_count": 2,
     "metadata": {},
     "output_type": "execute_result"
    }
   ],
   "source": [
    "omg=load_iris()\n",
    "omg"
   ]
  },
  {
   "cell_type": "markdown",
   "metadata": {
    "datalore": {
     "hide_input_from_viewers": true,
     "hide_output_from_viewers": true,
     "node_id": "SzUWybPVfx5qHISy04J05T",
     "type": "MD"
    }
   },
   "source": [
    "Получим датафрейм:"
   ]
  },
  {
   "cell_type": "code",
   "execution_count": 3,
   "metadata": {
    "datalore": {
     "hide_input_from_viewers": true,
     "hide_output_from_viewers": true,
     "node_id": "1CzqN2oH6DS2JIM9x0i5mM",
     "type": "CODE"
    }
   },
   "outputs": [
    {
     "data": {
      "text/html": [
       "<div>\n",
       "<style scoped>\n",
       "    .dataframe tbody tr th:only-of-type {\n",
       "        vertical-align: middle;\n",
       "    }\n",
       "\n",
       "    .dataframe tbody tr th {\n",
       "        vertical-align: top;\n",
       "    }\n",
       "\n",
       "    .dataframe thead th {\n",
       "        text-align: right;\n",
       "    }\n",
       "</style>\n",
       "<table border=\"1\" class=\"dataframe\">\n",
       "  <thead>\n",
       "    <tr style=\"text-align: right;\">\n",
       "      <th></th>\n",
       "      <th>sepal length</th>\n",
       "      <th>sepal width</th>\n",
       "      <th>petal length</th>\n",
       "      <th>petal width</th>\n",
       "      <th>target</th>\n",
       "    </tr>\n",
       "  </thead>\n",
       "  <tbody>\n",
       "    <tr>\n",
       "      <th>0</th>\n",
       "      <td>5.1</td>\n",
       "      <td>3.5</td>\n",
       "      <td>1.4</td>\n",
       "      <td>0.2</td>\n",
       "      <td>0.0</td>\n",
       "    </tr>\n",
       "    <tr>\n",
       "      <th>1</th>\n",
       "      <td>4.9</td>\n",
       "      <td>3.0</td>\n",
       "      <td>1.4</td>\n",
       "      <td>0.2</td>\n",
       "      <td>0.0</td>\n",
       "    </tr>\n",
       "    <tr>\n",
       "      <th>2</th>\n",
       "      <td>4.7</td>\n",
       "      <td>3.2</td>\n",
       "      <td>1.3</td>\n",
       "      <td>0.2</td>\n",
       "      <td>0.0</td>\n",
       "    </tr>\n",
       "    <tr>\n",
       "      <th>3</th>\n",
       "      <td>4.6</td>\n",
       "      <td>3.1</td>\n",
       "      <td>1.5</td>\n",
       "      <td>0.2</td>\n",
       "      <td>0.0</td>\n",
       "    </tr>\n",
       "    <tr>\n",
       "      <th>4</th>\n",
       "      <td>5.0</td>\n",
       "      <td>3.6</td>\n",
       "      <td>1.4</td>\n",
       "      <td>0.2</td>\n",
       "      <td>0.0</td>\n",
       "    </tr>\n",
       "    <tr>\n",
       "      <th>...</th>\n",
       "      <td>...</td>\n",
       "      <td>...</td>\n",
       "      <td>...</td>\n",
       "      <td>...</td>\n",
       "      <td>...</td>\n",
       "    </tr>\n",
       "    <tr>\n",
       "      <th>145</th>\n",
       "      <td>6.7</td>\n",
       "      <td>3.0</td>\n",
       "      <td>5.2</td>\n",
       "      <td>2.3</td>\n",
       "      <td>2.0</td>\n",
       "    </tr>\n",
       "    <tr>\n",
       "      <th>146</th>\n",
       "      <td>6.3</td>\n",
       "      <td>2.5</td>\n",
       "      <td>5.0</td>\n",
       "      <td>1.9</td>\n",
       "      <td>2.0</td>\n",
       "    </tr>\n",
       "    <tr>\n",
       "      <th>147</th>\n",
       "      <td>6.5</td>\n",
       "      <td>3.0</td>\n",
       "      <td>5.2</td>\n",
       "      <td>2.0</td>\n",
       "      <td>2.0</td>\n",
       "    </tr>\n",
       "    <tr>\n",
       "      <th>148</th>\n",
       "      <td>6.2</td>\n",
       "      <td>3.4</td>\n",
       "      <td>5.4</td>\n",
       "      <td>2.3</td>\n",
       "      <td>2.0</td>\n",
       "    </tr>\n",
       "    <tr>\n",
       "      <th>149</th>\n",
       "      <td>5.9</td>\n",
       "      <td>3.0</td>\n",
       "      <td>5.1</td>\n",
       "      <td>1.8</td>\n",
       "      <td>2.0</td>\n",
       "    </tr>\n",
       "  </tbody>\n",
       "</table>\n",
       "<p>150 rows × 5 columns</p>\n",
       "</div>"
      ],
      "text/plain": [
       "     sepal length   sepal width   petal length   petal width   target\n",
       "0              5.1           3.5            1.4           0.2     0.0\n",
       "1              4.9           3.0            1.4           0.2     0.0\n",
       "2              4.7           3.2            1.3           0.2     0.0\n",
       "3              4.6           3.1            1.5           0.2     0.0\n",
       "4              5.0           3.6            1.4           0.2     0.0\n",
       "..             ...           ...            ...           ...     ...\n",
       "145            6.7           3.0            5.2           2.3     2.0\n",
       "146            6.3           2.5            5.0           1.9     2.0\n",
       "147            6.5           3.0            5.2           2.0     2.0\n",
       "148            6.2           3.4            5.4           2.3     2.0\n",
       "149            5.9           3.0            5.1           1.8     2.0\n",
       "\n",
       "[150 rows x 5 columns]"
      ]
     },
     "execution_count": 3,
     "metadata": {},
     "output_type": "execute_result"
    }
   ],
   "source": [
    "df = pd.DataFrame(data=np.c_[omg.data, omg.target],columns=([i[:-4] for i in omg['feature_names']] + ['target']))\n",
    "df"
   ]
  },
  {
   "cell_type": "markdown",
   "metadata": {},
   "source": [
    "Разделим датасет на признаки и целевые переменные. Подготовим данные, разделим их на обучающую и тестовую выборки."
   ]
  },
  {
   "cell_type": "code",
   "execution_count": 4,
   "metadata": {},
   "outputs": [],
   "source": [
    "Y = df.target\n",
    "X = df.iloc[:, [0, 1, 2, 3]]"
   ]
  },
  {
   "cell_type": "code",
   "execution_count": 5,
   "metadata": {},
   "outputs": [],
   "source": [
    "random_state = 42\n",
    "X_train, X_test, Y_train, Y_test = train_test_split(X, Y, test_size=0.2, random_state=random_state)"
   ]
  },
  {
   "cell_type": "markdown",
   "metadata": {
    "datalore": {
     "hide_input_from_viewers": true,
     "hide_output_from_viewers": true,
     "node_id": "ZfosUZvzBgE4rNY6oQELUw",
     "type": "MD"
    },
    "tags": []
   },
   "source": [
    "## 2. Реализация модели перцептрона"
   ]
  },
  {
   "cell_type": "markdown",
   "metadata": {},
   "source": [
    "Напишем класс, позволяющий сгенерировать нейронную сеть любой глубины и с любой шириной каждого скрытого слоя. У нас будет два публичных метода - fit и predict."
   ]
  },
  {
   "cell_type": "code",
   "execution_count": 6,
   "metadata": {
    "tags": []
   },
   "outputs": [],
   "source": [
    "class MPerceptron:\n",
    "    \"\"\"\n",
    "    Модель многослойного перцептрона с динамической архитектурой сети.\n",
    "    \"\"\"\n",
    "    def __init__(self,\n",
    "                 hidden_net: list = [10],  # Structure of hidden layers\n",
    "                 learning_rate: float=0.01,  # Speed\n",
    "                 max_epochs: int=100,  # Количество эпох\n",
    "                 random_state=100,\n",
    "                 gamma=0.9,  # For RMSP method\n",
    "                 epsilon=10 ** (-3),  # For RMSP method\n",
    "                 start_loc=0.0,\n",
    "                 start_scale=0.0002\n",
    "                 ):\n",
    "        self. hidden_net =  hidden_net\n",
    "        self.learning_rate = learning_rate\n",
    "        self.max_epochs = max_epochs\n",
    "        self.random_state = random_state\n",
    "        self.gamma = gamma\n",
    "        self.epsilon = epsilon  # сглаживающий параметр для RSMProp\n",
    "        self.loc = start_loc\n",
    "        self.scale = start_scale\n",
    "\n",
    "    def __create_start_weight(self, dimension: tuple[int],\n",
    "                              loc, scale) -> list[np.array]:\n",
    "        \"\"\"\n",
    "        Инициализация весов в начале обучения.\n",
    "        dimension --> W = [ w0, w1, w2, w3, w4 ],\n",
    "        где w0 (OR b) - член смещения\n",
    "    \"\"\"\n",
    "\n",
    "        rgen = np.random.RandomState(self.random_state)\n",
    "        # Начальные веса и член смещения - в одном векторе\n",
    "        return  rgen.normal(loc=loc, scale=scale, size=dimension)\n",
    "    \n",
    "    @staticmethod\n",
    "    def __show_architecture(layers):\n",
    "        return (f'- входной слой: {layers[0]}',\n",
    "            *[f\"скрытый слой шириной {h}\" for h in layers[1:-1]],\n",
    "              f'выходной слой {layers[-1]}')\n",
    "\n",
    "    def __build_net_architecture(self, input_dim, output_dim) -> None:\n",
    "        \"\"\"\n",
    "        Function takes info about hidden layers and helps program to create it\n",
    "        Мы подаём на вход список: его длина - количество скрытых слоёв, а значение каждого элемента - ширина соответствующего слоя.\n",
    "        Для каждого слоя генерируем начальные веса - матрицу соответствующей размерности\n",
    "        \"\"\"\n",
    "        layers = [input_dim, *self.hidden_net, output_dim]\n",
    "        print(*self.__show_architecture(layers), sep='\\n- ') # length and depth\n",
    "        weights = []\n",
    "        # Размерность матрицы весов определяется шириной слоя, который подаётся на вход (это количество столбцов),\n",
    "        # и шириной следующего слоя (это количество строк)\n",
    "        for input_dim, output_dim in zip(\n",
    "                layers[:-1], layers[1:]  # Получаем пары (слой, следующий слой)\n",
    "\n",
    "        ):\n",
    "            # К размерности входного слоя мы прибавляем единицу - так мы учитываем ФИКТИВНЫЙ столбец\n",
    "            weights.append(\n",
    "                self.__create_start_weight((output_dim, input_dim + 1), loc=self.loc, scale=self.scale)\n",
    "            )\n",
    "        # В итоге мы имеем m+1 весов для m скрытых слоёв.\n",
    "        self.W = weights\n",
    "\n",
    "    @staticmethod\n",
    "    def __extend_matrix(A) -> pd.DataFrame:\n",
    "        \"\"\"\n",
    "        Функция для добавления фиктивного единичного вектора\n",
    "        к матрице\n",
    "        \"\"\"\n",
    "        # Будем работать с локальной копией, чтобы не менять исходный датафрейм\n",
    "        A = A.copy()\n",
    "        A.insert(0, 'fictive', 1)\n",
    "        return A\n",
    "\n",
    "    @staticmethod\n",
    "    def __convert_target(Y) -> pd.DataFrame:\n",
    "        \"\"\"\n",
    "        Функция для преобразования истинных меток методом One-hot Encoding. Принимает\n",
    "        вектор выходных переменных и возвращает матрицу, где стобцы - все уникальные значения.\n",
    "        Вообще, этот метод подразумевает k-1 столбцов для k уникальных значений во избежание мультиколлинеарности.\n",
    "        Однако же, мы просто хотим расширить наш вектор Y до матрицы, чтобы можно было искать градиент, поэтому drop_first=False.\n",
    "        \"\"\"\n",
    "        Y = Y.copy()\n",
    "        return pd.get_dummies(Y, drop_first=False, dummy_na=False, dtype='float')\n",
    "\n",
    "    @staticmethod\n",
    "    def __relu(T) -> pd.DataFrame:\n",
    "        \"\"\"\n",
    "        Функция активации RELU.\n",
    "        T --> output H(T)\n",
    "        \"\"\"\n",
    "        return np.maximum(T, 0)\n",
    "\n",
    "    @staticmethod\n",
    "    def __relu_deriv(T) -> pd.DataFrame:\n",
    "        \"\"\"\n",
    "        Производная функции активации, необходима для поиска градиента.\n",
    "        Сравниваем все значения датафрейма T с нулём - получаем матрицу с True и False, эти значения переводим в бинарные значения\n",
    "        \"\"\"\n",
    "        return (T >= 0).astype(float, copy=True)\n",
    "\n",
    "    @staticmethod\n",
    "    def __softmax(array) -> pd.DataFrame:\n",
    "        \"\"\" Converts a vector of K real numbers into a probability distribution of K possible outcomes\"\"\"\n",
    "        P = []\n",
    "        for item in array.iterrows():  # Item - одна строка датафрейма формата <(порядковый номер строки, Series)>\n",
    "            e = np.exp(item[1])  # Получаем вектор всех значений для одного наблюдения\n",
    "            P.append(e / np.sum(e))  # Делим вектор на сумму экспонент, получая вероятностное распределение\n",
    "        return pd.DataFrame(P)\n",
    "\n",
    "    @staticmethod\n",
    "    def __CE_log_loss(Y, P):\n",
    "        \"\"\"\n",
    "        Логарифмическая функция потерь - кросс-энтропия - для небинарной классификации:\n",
    "        Получаем на вход две матрицы KxN - K классов (уникальных меток) на N образцов.\n",
    "        Логарифмируем предсказанные вероятности, после перемножаем матрицы и получаем матрицу KxK;\n",
    "        складываем все K^2 значений. Ставим минус, чтобы преобразовать функцию правдоподобия в функцию потерь\n",
    "\n",
    "        \"\"\"\n",
    "        y = Y.to_numpy()\n",
    "        p = P.to_numpy()\n",
    "        return - np.array([np.log(p[:, i]).T @ y[:, i] for i in range(y.shape[1])]).sum()\n",
    "\n",
    "    def __forward_prop(self, X) -> tuple[defaultlist, defaultlist, pd.DataFrame]:\n",
    "        \"\"\" Расчёт выходного слоя\"\"\"\n",
    "        HH = defaultlist()\n",
    "        T = defaultlist()\n",
    "        HH[0] = self.__extend_matrix(X)\n",
    "        for layer in range(1, len(self.W) + 1):\n",
    "            T[layer] = HH[layer - 1] @ self.W[layer - 1].T\n",
    "            # H[layer] = __relu(T[layer])\n",
    "            # HH[layer] = __extend_matrix(H[layer])\n",
    "            HH[layer] = self.__extend_matrix(self.__relu(T[layer]))\n",
    "        # На последнем слое вместо функции активации используем софтмакс\n",
    "        P = self.__softmax(T[-1])\n",
    "        return T, HH, P\n",
    "\n",
    "    def __RMSProp(self, grad, i):\n",
    "        \"\"\"\n",
    "        Функция обновления весов методом RMSProp\n",
    "        Возвращает deltaW\n",
    "        \"\"\"\n",
    "        # Root Mean Square Propagation\n",
    "        self.E_[i] = self.gamma * self.E_[i] + (1 - self.gamma) * grad ** 2\n",
    "        return grad / (np.sqrt(self.E_[i] + self.epsilon))\n",
    "\n",
    "    def __backward_prop(self, T, HH, E) -> list[np.array]:\n",
    "        dH = defaultlist()\n",
    "        dW = defaultlist()\n",
    "        dT = defaultlist()\n",
    "        dT[len(self.W)] = (E).to_numpy()\n",
    "        for layer in range(len(self.W) - 1, 0, -1):\n",
    "            dW[layer] = dT[layer + 1].T @ HH[layer].to_numpy()\n",
    "            dH[layer] = dT[layer + 1] @ self.W[layer][:, 1:]  # Вектор смещения не учитываем, чтобы совпадала размерность\n",
    "            rd = self.__relu_deriv(T[layer]).to_numpy()\n",
    "            dT[layer] = dH[layer] * rd\n",
    "        dW[0] = dT[1].T @ HH[0].to_numpy()\n",
    "        return dW\n",
    "\n",
    "\n",
    "    def fit(self, X, Y):\n",
    "        \"\"\" Функция для обучения модели\"\"\"\n",
    "        self.loss_function = []\n",
    "        # X = copy.deepcopy(X)\n",
    "        Y = self.__convert_target(Y)  # Преобразование вектора в матрицу из K столбцов\n",
    "        # Определим размерность входного и выходного слоёв\n",
    "        output_dim, input_dim = Y.shape[1], X.shape[1]\n",
    "        self.__build_net_architecture(input_dim, output_dim)  # 0.2 300 0.0005\n",
    "        # self.E_ = [0 for _ in range(len(self.W)+1)]\n",
    "        self.E_ = [0] * (len(self.W) + 1)\n",
    "        for epoch in range(self.max_epochs):\n",
    "            # Prediction\n",
    "            X = X.sample(frac=1, random_state=self.random_state)\n",
    "            Y = Y.sample(frac=1, random_state=self.random_state)\n",
    "\n",
    "            T, HH, P = self.__forward_prop(X)\n",
    "\n",
    "            # Функция издержек\n",
    "            self.loss_function.append(self.__CE_log_loss(Y, P))\n",
    "            # dE_dW1 = np.nan_to_num(dE_dW1)\n",
    "            # dE_dW2 = np.nan_to_num(dE_dW2)\n",
    "\n",
    "            dW = self.__backward_prop(\n",
    "                T, HH,\n",
    "                P-Y  # Матрица ошибки Е при данных весах\n",
    "            )\n",
    "            # Обновление весов\n",
    "            for i in range(0, len(self.W)):\n",
    "                rate = self.learning_rate * self.__RMSProp(dW[i], i)\n",
    "                self.W[i] -= rate\n",
    "\n",
    "        print(f'Model has been trained successfully!')\n",
    "        \n",
    "    def predict(self, X):\n",
    "        return self.__forward_prop(X)[2].sort_index()"
   ]
  },
  {
   "cell_type": "markdown",
   "metadata": {},
   "source": [
    "Чтобы обучить модель определённым образом, нужно выбрать соответсвующий алгоритм при создании модели"
   ]
  },
  {
   "cell_type": "markdown",
   "metadata": {},
   "source": [
    "## 3. Метрики"
   ]
  },
  {
   "cell_type": "markdown",
   "metadata": {},
   "source": [
    "Мы используем простой датасет, в котором различных меток поровну и нет задачи \"поймать\" редкие, аномальные значения. Найти процент правильно классифицированных образцов - отличный вариант для анализа точности модели. Так же мы сравним поведение функций издержек."
   ]
  },
  {
   "cell_type": "code",
   "execution_count": 7,
   "metadata": {},
   "outputs": [],
   "source": [
    "def calculate_scores(pred, target):\n",
    "    \"\"\" Функция для оценки точности модели\"\"\"\n",
    "    scores = 0\n",
    "    for check, true in zip(pred, target):\n",
    "        if float(check) == true:\n",
    "            scores +=1\n",
    "    return f'{scores/len(target)*100}%'"
   ]
  },
  {
   "cell_type": "code",
   "execution_count": 8,
   "metadata": {},
   "outputs": [],
   "source": [
    "def show_loss(loss) -> None:\n",
    "    \"\"\" Функция для отображения графика функции потерь\"\"\"\n",
    "    plt.plot(loss)\n",
    "    plt.title(\"LOSS\")\n",
    "    plt.show()"
   ]
  },
  {
   "cell_type": "markdown",
   "metadata": {},
   "source": [
    "## 4. Обучение модели"
   ]
  },
  {
   "cell_type": "markdown",
   "metadata": {},
   "source": [
    "Обучим модели перцептрона с одним, двумя и тремя скрытыми слоями"
   ]
  },
  {
   "cell_type": "markdown",
   "metadata": {},
   "source": [
    "**1) Трёхслойный перцептрон**"
   ]
  },
  {
   "cell_type": "code",
   "execution_count": 28,
   "metadata": {},
   "outputs": [
    {
     "name": "stdout",
     "output_type": "stream",
     "text": [
      "- входной слой: 4\n",
      "- скрытый слой шириной 10\n",
      "- выходной слой 3\n",
      "Model has been trained successfully!\n"
     ]
    }
   ],
   "source": [
    "model1 = MPerceptron(hidden_net=[10], learning_rate=0.001, max_epochs=400, random_state=random_state)\n",
    "model1.fit(X_train, Y_train)"
   ]
  },
  {
   "cell_type": "code",
   "execution_count": 29,
   "metadata": {
    "tags": []
   },
   "outputs": [
    {
     "data": {
      "text/plain": [
       "array([1, 1, 1, 1, 1, 1, 1, 1, 1, 1, 1, 1, 1, 1, 1, 1, 1, 1, 1, 1, 1, 1,\n",
       "       1, 1, 1, 1, 1, 1, 1, 1, 1, 1, 1, 1, 1, 1, 1, 1, 1, 1, 1, 1, 1, 1,\n",
       "       1, 1, 1, 1, 1, 1, 1, 1, 1, 1, 1, 1, 1, 1, 1, 1, 1, 1, 1, 1, 1, 1,\n",
       "       1, 1, 1, 1, 1, 1, 1, 1, 1, 1, 1, 1, 1, 1, 1, 1, 1, 1, 1, 1, 1, 1,\n",
       "       1, 1, 1, 1, 1, 1, 1, 1, 1, 1, 1, 1, 1, 1, 1, 1, 1, 1, 1, 1, 1, 1,\n",
       "       1, 1, 1, 1, 1, 1, 1, 1, 1, 1, 1, 1, 1, 1, 1, 1, 1, 1, 1, 1, 1, 1,\n",
       "       1, 1, 1, 1, 1, 1, 1, 1, 1, 1, 1, 1, 1, 1, 1, 1, 1, 1], dtype=int64)"
      ]
     },
     "execution_count": 29,
     "metadata": {},
     "output_type": "execute_result"
    }
   ],
   "source": [
    "P1 = model1.predict(X)\n",
    "# Для каждого образца выберём столбец с максимальной \n",
    "# вероятностью - номер столбца совпадёт с индексом класса, к которому должен относиться этот цветок (второй столбец для класса 1 и тд)\n",
    "P1.to_numpy().argmax(axis=1).T"
   ]
  },
  {
   "cell_type": "code",
   "execution_count": 30,
   "metadata": {},
   "outputs": [
    {
     "data": {
      "image/png": "[encoded data removed]",
      "text/plain": [
       "<Figure size 640x480 with 1 Axes>"
      ]
     },
     "metadata": {},
     "output_type": "display_data"
    }
   ],
   "source": [
    "show_loss(model1.loss_function)"
   ]
  },
  {
   "cell_type": "code",
   "execution_count": 26,
   "metadata": {},
   "outputs": [
    {
     "name": "stdout",
     "output_type": "stream",
     "text": [
      "Model's accuracy is:   98.0%\n"
     ]
    }
   ],
   "source": [
    "print(\"Model's accuracy is:  \", calculate_scores(P1.to_numpy().argmax(axis=1).T, Y))"
   ]
  },
  {
   "cell_type": "markdown",
   "metadata": {},
   "source": [
    "**2) Два скрытых слоя**"
   ]
  },
  {
   "cell_type": "code",
   "execution_count": 13,
   "metadata": {},
   "outputs": [
    {
     "name": "stdout",
     "output_type": "stream",
     "text": [
      "- входной слой: 4\n",
      "- скрытый слой шириной 12\n",
      "- скрытый слой шириной 9\n",
      "- выходной слой 3\n",
      "Model has been trained successfully!\n"
     ]
    }
   ],
   "source": [
    "model2 = MPerceptron(hidden_net=[12, 9], learning_rate=0.0005, max_epochs=2300, random_state=random_state)\n",
    "model2.fit(X_train, Y_train)"
   ]
  },
  {
   "cell_type": "code",
   "execution_count": 14,
   "metadata": {},
   "outputs": [],
   "source": [
    "P2 = model2.predict(X)"
   ]
  },
  {
   "cell_type": "code",
   "execution_count": 15,
   "metadata": {},
   "outputs": [
    {
     "data": {
      "image/png": "[encoded data removed]",
      "text/plain": [
       "<Figure size 640x480 with 1 Axes>"
      ]
     },
     "metadata": {},
     "output_type": "display_data"
    }
   ],
   "source": [
    "show_loss(model2.loss_function)"
   ]
  },
  {
   "cell_type": "code",
   "execution_count": 17,
   "metadata": {},
   "outputs": [
    {
     "name": "stdout",
     "output_type": "stream",
     "text": [
      "Model's accuracy is:   98.0%\n"
     ]
    }
   ],
   "source": [
    "print(\"Model's accuracy is:  \", calculate_scores(P2.to_numpy().argmax(axis=1).T, Y))"
   ]
  },
  {
   "cell_type": "markdown",
   "metadata": {},
   "source": [
    "**3) Три скрытых слоя**"
   ]
  },
  {
   "cell_type": "code",
   "execution_count": 19,
   "metadata": {},
   "outputs": [
    {
     "name": "stdout",
     "output_type": "stream",
     "text": [
      "- входной слой: 4\n",
      "- скрытый слой шириной 5\n",
      "- скрытый слой шириной 5\n",
      "- скрытый слой шириной 5\n",
      "- выходной слой 3\n",
      "Model has been trained successfully!\n"
     ]
    }
   ],
   "source": [
    "model3 = MPerceptron(hidden_net=[5, 5, 5], learning_rate=0.005, max_epochs=1800, random_state=random_state, start_scale=0.1)\n",
    "model3.fit(X_train, Y_train)"
   ]
  },
  {
   "cell_type": "code",
   "execution_count": 20,
   "metadata": {},
   "outputs": [],
   "source": [
    "P3 = model3.predict(X)"
   ]
  },
  {
   "cell_type": "code",
   "execution_count": 21,
   "metadata": {},
   "outputs": [
    {
     "data": {
      "image/png": "[encoded data removed]",
      "text/plain": [
       "<Figure size 640x480 with 1 Axes>"
      ]
     },
     "metadata": {},
     "output_type": "display_data"
    }
   ],
   "source": [
    "show_loss(model3.loss_function)"
   ]
  },
  {
   "cell_type": "code",
   "execution_count": 23,
   "metadata": {},
   "outputs": [
    {
     "name": "stdout",
     "output_type": "stream",
     "text": [
      "Model's accuracy is:   98.0%\n"
     ]
    }
   ],
   "source": [
    "print(\"Model's accuracy is:  \", calculate_scores(P3.to_numpy().argmax(axis=1).T, Y))"
   ]
  },
  {
   "cell_type": "markdown",
   "metadata": {},
   "source": [
    "## 5. Вывод"
   ]
  },
  {
   "cell_type": "markdown",
   "metadata": {},
   "source": [
    "**Все варианты нейронной сети достигают одинаково высокой точности. Соответственно, для решения задачи классификации на основе такого простого датасета, как ирисы, трёхслойного перцептрона более чем достаточно.**"
   ]
  },
  {
   "cell_type": "code",
   "execution_count": null,
   "metadata": {},
   "outputs": [],
   "source": []
  }
 ],
 "metadata": {
  "datalore": {
   "base_environment": "minimal",
   "computation_mode": "JUPYTER",
   "package_manager": "pip",
   "packages": [],
   "version": 1
  },
  "kernelspec": {
   "display_name": "scikit",
   "language": "python",
   "name": "scikit"
  },
  "language_info": {
   "codemirror_mode": {
    "name": "ipython",
    "version": 3
   },
   "file_extension": ".py",
   "mimetype": "text/x-python",
   "name": "python",
   "nbconvert_exporter": "python",
   "pygments_lexer": "ipython3",
   "version": "3.11.0rc2"
  }
 },
 "nbformat": 4,
 "nbformat_minor": 4
}
